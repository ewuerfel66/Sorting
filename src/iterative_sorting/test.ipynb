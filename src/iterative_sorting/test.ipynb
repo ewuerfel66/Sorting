{
 "cells": [
  {
   "cell_type": "code",
   "execution_count": 42,
   "metadata": {},
   "outputs": [],
   "source": [
    "# TO-DO: Complete the selection_sort() function below \n",
    "def selection_sort( arr ):\n",
    "    # loop through n-1 elements\n",
    "    for i in range(0, len(arr) - 1):\n",
    "        cur_index = i\n",
    "        # TO-DO: find next smallest element\n",
    "        # (hint, can do in 3 loc)\n",
    "        \n",
    "        # Assume the one we're on is the smallest\n",
    "        min_value = arr[cur_index]\n",
    "        smallest_index = i\n",
    "        \n",
    "        # Check if it's not\n",
    "        for inner_i in range(cur_index+1, len(arr)):\n",
    "            if arr[inner_i] < min_value:\n",
    "                min_value = arr[inner_i]\n",
    "                smallest_index = inner_i\n",
    "\n",
    "        # TO-DO: swap\n",
    "        old_value = arr[cur_index]\n",
    "        arr[cur_index] = min_value\n",
    "        arr[smallest_index] = old_value\n",
    "        \n",
    "\n",
    "\n",
    "    return arr"
   ]
  },
  {
   "cell_type": "code",
   "execution_count": 43,
   "metadata": {},
   "outputs": [
    {
     "name": "stdout",
     "output_type": "stream",
     "text": [
      "[1, 2, 3, 4, 5, 6]\n"
     ]
    }
   ],
   "source": [
    "# Test bubble_sort\n",
    "arr = [1, 3, 2, 4, 6, 5]\n",
    "print(selection_sort(arr))"
   ]
  },
  {
   "cell_type": "code",
   "execution_count": 28,
   "metadata": {},
   "outputs": [
    {
     "name": "stdout",
     "output_type": "stream",
     "text": [
      "[1, 2, 3, 4, 5, 6]\n"
     ]
    }
   ],
   "source": [
    "print(bubble_sort(arr))"
   ]
  },
  {
   "cell_type": "code",
   "execution_count": 37,
   "metadata": {},
   "outputs": [],
   "source": [
    "# loop through n-1 elements\n",
    "for i in range(0, len(arr) - 1):\n",
    "    cur_index = i\n",
    "    smallest_index = cur_index\n",
    "    # TO-DO: find next smallest element\n",
    "    # (hint, can do in 3 loc)\n",
    "    for "
   ]
  },
  {
   "cell_type": "code",
   "execution_count": 34,
   "metadata": {},
   "outputs": [
    {
     "name": "stdout",
     "output_type": "stream",
     "text": [
      "0\n",
      "1\n",
      "2\n",
      "3\n",
      "4\n"
     ]
    }
   ],
   "source": [
    "# Loop through array (except last one)\n",
    "for i in range(len(arr) - 1):\n",
    "    # Swap if the next entry is smaller\n",
    "    if arr[i + 1] < arr[i]:\n",
    "        first = arr[i]\n",
    "        second = arr[i + 1]\n",
    "        arr[i] = second\n",
    "        arr[i + 1] = first\n",
    "\n",
    "        # Add to the swap count\n",
    "        swap_count += 1\n",
    "\n",
    "        if swap_count == 0:\n",
    "            print(arr)\n",
    "\n",
    "        else:\n",
    "            swap_count = 0\n",
    "            bubble(arr)\n",
    "            print('here')"
   ]
  },
  {
   "cell_type": "code",
   "execution_count": 33,
   "metadata": {},
   "outputs": [
    {
     "data": {
      "text/plain": [
       "[1, 2, 3, 4, 5, 6]"
      ]
     },
     "execution_count": 33,
     "metadata": {},
     "output_type": "execute_result"
    }
   ],
   "source": [
    "arr"
   ]
  },
  {
   "cell_type": "code",
   "execution_count": 38,
   "metadata": {},
   "outputs": [],
   "source": [
    "lst = ['Joe', 2, 'Ted', 4.98, 14, 'Sam', 'void *', '42', 'float', 'pointers', 5006]"
   ]
  },
  {
   "cell_type": "code",
   "execution_count": 39,
   "metadata": {},
   "outputs": [
    {
     "name": "stdout",
     "output_type": "stream",
     "text": [
      "Joe\n",
      "2\n",
      "Ted\n",
      "4.98\n",
      "14\n",
      "Sam\n",
      "void *\n",
      "42\n",
      "float\n",
      "pointers\n",
      "5006\n"
     ]
    }
   ],
   "source": [
    "for entry in lst:\n",
    "    print(entry)"
   ]
  },
  {
   "cell_type": "code",
   "execution_count": null,
   "metadata": {},
   "outputs": [],
   "source": []
  }
 ],
 "metadata": {
  "kernelspec": {
   "display_name": "Python 3",
   "language": "python",
   "name": "python3"
  },
  "language_info": {
   "codemirror_mode": {
    "name": "ipython",
    "version": 3
   },
   "file_extension": ".py",
   "mimetype": "text/x-python",
   "name": "python",
   "nbconvert_exporter": "python",
   "pygments_lexer": "ipython3",
   "version": "3.7.3"
  }
 },
 "nbformat": 4,
 "nbformat_minor": 2
}
