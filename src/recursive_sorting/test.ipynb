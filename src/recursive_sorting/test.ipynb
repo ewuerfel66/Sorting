{
 "cells": [
  {
   "cell_type": "code",
   "execution_count": 37,
   "metadata": {},
   "outputs": [],
   "source": [
    "def merge( arrA, arrB ):\n",
    "    elements = len( arrA ) + len( arrB )\n",
    "    merged_arr = [0] * elements\n",
    "    merged_arr[:len(arrA)] = arrA\n",
    "    merged_arr[len(arrA):] = arrB\n",
    "    \n",
    "    return merged_arr"
   ]
  },
  {
   "cell_type": "code",
   "execution_count": 38,
   "metadata": {},
   "outputs": [],
   "source": [
    "def merge_sort( arr ):\n",
    "    if len(arr) > 1:\n",
    "        midpoint = len(arr) // 2\n",
    "        split1 = arr[:midpoint]\n",
    "        split2 = arr[midpoint:]\n",
    "        merge_sort(split1)\n",
    "        merge_sort(split2)\n",
    "        \n",
    "        # Sort\n",
    "        i = j = k = 0\n",
    "        \n",
    "        while i < len(split1) and j < len(split2):\n",
    "            if split1[i] > split2[j]:\n",
    "                arr[k] = split1[i]\n",
    "                i += 1\n",
    "            elif split1[i] < split2[i]:\n",
    "                arr[k] = split2[j]\n",
    "                j += 1\n",
    "                \n",
    "            k += 1\n",
    "            \n",
    "        # Catch Stragglers\n",
    "        while i < len(split1):\n",
    "            arr[k] = split1[i]\n",
    "            i += 1\n",
    "            k += 1\n",
    "            \n",
    "        while j < len(split2):\n",
    "            arr[k] = split2[j]\n",
    "            j += 1\n",
    "            k += 1\n",
    "\n",
    "    arr = arr[::-1]\n",
    "            \n",
    "    return arr"
   ]
  },
  {
   "cell_type": "code",
   "execution_count": 35,
   "metadata": {},
   "outputs": [],
   "source": [
    "arrA = [1]\n",
    "arrB = [3]\n",
    "arr = [1, 3, 2, 4, 7, 0]"
   ]
  },
  {
   "cell_type": "code",
   "execution_count": 33,
   "metadata": {},
   "outputs": [
    {
     "data": {
      "text/plain": [
       "[1, 3]"
      ]
     },
     "execution_count": 33,
     "metadata": {},
     "output_type": "execute_result"
    }
   ],
   "source": [
    "merge(arrA, arrB)"
   ]
  },
  {
   "cell_type": "code",
   "execution_count": 39,
   "metadata": {},
   "outputs": [
    {
     "data": {
      "text/plain": [
       "[0, 1, 2, 3, 4, 7]"
      ]
     },
     "execution_count": 39,
     "metadata": {},
     "output_type": "execute_result"
    }
   ],
   "source": [
    "merge_sort(arr)"
   ]
  },
  {
   "cell_type": "code",
   "execution_count": null,
   "metadata": {},
   "outputs": [],
   "source": []
  }
 ],
 "metadata": {
  "kernelspec": {
   "display_name": "Python 3",
   "language": "python",
   "name": "python3"
  },
  "language_info": {
   "codemirror_mode": {
    "name": "ipython",
    "version": 3
   },
   "file_extension": ".py",
   "mimetype": "text/x-python",
   "name": "python",
   "nbconvert_exporter": "python",
   "pygments_lexer": "ipython3",
   "version": "3.7.3"
  }
 },
 "nbformat": 4,
 "nbformat_minor": 2
}
